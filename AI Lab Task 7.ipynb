{
 "cells": [
  {
   "cell_type": "markdown",
   "id": "16ef028b",
   "metadata": {},
   "source": [
    "# A* Algorithm"
   ]
  },
  {
   "cell_type": "code",
   "execution_count": 2,
   "id": "88ad55ce",
   "metadata": {},
   "outputs": [],
   "source": [
    "graph = {\n",
    "    \"A\" : [(\"B\",4),(\"C\",5)],\n",
    "    \"B\" : [(\"D\",7),(\"E\",2)],\n",
    "    \"C\" : [(\"H\",4),(\"I\",5)],\n",
    "    \"H\" : [(\"G\",8),(\"C\",5)],\n",
    "    \"D\" : [(\"B\",7),(\"F\",5)],\n",
    "    \"E\" : [(\"B\",2)],\n",
    "    \"I\" : [(\"C\",5),(\"G\",3)],\n",
    "    \"F\" : [(\"D\",5)],\n",
    "    \"G\" : [(\"H\",8),(\"I\",3)]\n",
    "}\n",
    "def get_neighbour(v):\n",
    "    if v in graph:\n",
    "        return graph[v]\n",
    "    else:\n",
    "        return None\n",
    "def h(n):\n",
    "    h = {\n",
    "    \"A\" : 5,\n",
    "    \"B\" : 4,\n",
    "    \"C\" : 9,\n",
    "    \"H\" : 12,\n",
    "    \"D\" : 3,\n",
    "    \"E\" : 6,\n",
    "    \"I\" : 5,\n",
    "    \"F\" : 7,\n",
    "    \"G\" : 8\n",
    "    }\n",
    "    return h[n] "
   ]
  },
  {
   "cell_type": "code",
   "execution_count": 3,
   "id": "0a1bc16c",
   "metadata": {},
   "outputs": [
    {
     "name": "stdout",
     "output_type": "stream",
     "text": [
      "Path from A to G: ['A', 'C', 'I', 'G']\n"
     ]
    }
   ],
   "source": [
    "def A_star(s_node, g_node):\n",
    "    open_set = set([s_node])\n",
    "    closed_set = set() \n",
    "    g = {} \n",
    "    parents = {}  \n",
    "    g[s_node] = 0  \n",
    "    parents[s_node] = s_node  \n",
    "\n",
    "    while len(open_set) > 0:\n",
    "        n = None\n",
    "        for v in open_set:\n",
    "            if n == None or g[v] + h(v) < g[n] + h(n):\n",
    "                n = v\n",
    "        if n == g_node or graph[n] == None: \n",
    "            path = []\n",
    "            while parents[n] != n: \n",
    "                path.append(n)\n",
    "                n = parents[n]\n",
    "            path.append(s_node)\n",
    "            path.reverse()\n",
    "            return path\n",
    "        for (m, weight) in get_neighbour(n):\n",
    "            if m not in open_set and m not in closed_set:\n",
    "                open_set.add(m)\n",
    "                parents[m] = n\n",
    "                g[m] = g[n] + weight\n",
    "            else:\n",
    "                if g[m] > g[n] + weight:\n",
    "                    g[m] = g[n] + weight\n",
    "                    parents[m] = n\n",
    "                    if m in closed_set:\n",
    "                        closed_set.remove(m)\n",
    "                        open_set.add(m)\n",
    "        open_set.remove(n)\n",
    "        closed_set.add(n)\n",
    "\n",
    "    return None  \n",
    "start_node = \"A\"\n",
    "goal_node = \"G\"\n",
    "path = A_star(start_node, goal_node)\n",
    "\n",
    "print(f\"Path from {start_node} to {goal_node}: {path}\")\n"
   ]
  },
  {
   "cell_type": "code",
   "execution_count": null,
   "id": "09206839",
   "metadata": {},
   "outputs": [],
   "source": []
  },
  {
   "cell_type": "code",
   "execution_count": null,
   "id": "b3929858",
   "metadata": {},
   "outputs": [],
   "source": []
  },
  {
   "cell_type": "code",
   "execution_count": null,
   "id": "3fba3332",
   "metadata": {},
   "outputs": [],
   "source": []
  }
 ],
 "metadata": {
  "kernelspec": {
   "display_name": "Python 3 (ipykernel)",
   "language": "python",
   "name": "python3"
  },
  "language_info": {
   "codemirror_mode": {
    "name": "ipython",
    "version": 3
   },
   "file_extension": ".py",
   "mimetype": "text/x-python",
   "name": "python",
   "nbconvert_exporter": "python",
   "pygments_lexer": "ipython3",
   "version": "3.11.5"
  }
 },
 "nbformat": 4,
 "nbformat_minor": 5
}
